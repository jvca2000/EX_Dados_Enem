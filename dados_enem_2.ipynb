{
  "cells": [
    {
      "cell_type": "markdown",
      "metadata": {
        "id": "view-in-github",
        "colab_type": "text"
      },
      "source": [
        "<a href=\"https://colab.research.google.com/github/jvca2000/EX_Dados_Enem/blob/main/dados_enem_2.ipynb\" target=\"_parent\"><img src=\"https://colab.research.google.com/assets/colab-badge.svg\" alt=\"Open In Colab\"/></a>"
      ]
    },
    {
      "cell_type": "code",
      "execution_count": 284,
      "metadata": {
        "id": "IYILq4tPjone"
      },
      "outputs": [],
      "source": [
        "import pandas as pd\n",
        "import numpy as np\n",
        "import matplotlib.pyplot as plt"
      ]
    },
    {
      "cell_type": "code",
      "execution_count": 285,
      "metadata": {
        "id": "7R7BDMtXn1wl"
      },
      "outputs": [],
      "source": [
        "nome_arquivo1 = '/content/MICRODADOS_ENEM_2021.csv'"
      ]
    },
    {
      "cell_type": "markdown",
      "source": [
        "Total de participantes por estado"
      ],
      "metadata": {
        "id": "fypk16qwGIma"
      }
    },
    {
      "cell_type": "code",
      "execution_count": 286,
      "metadata": {
        "id": "r6so_kipVxRe"
      },
      "outputs": [],
      "source": [
        "ds_enem = pd.read_csv(nome_arquivo1, encoding = 'ISO-8859-1', sep=';')"
      ]
    },
    {
      "cell_type": "code",
      "execution_count": 287,
      "metadata": {
        "colab": {
          "base_uri": "https://localhost:8080/"
        },
        "id": "BJQ9oiVDZkNB",
        "outputId": "96d18716-6052-4f5d-b07c-e5b19743bb20"
      },
      "outputs": [
        {
          "output_type": "execute_result",
          "data": {
            "text/plain": [
              "array(['MG', 'AL', 'SP', 'CE', 'RS', 'BA', 'GO', 'RN', 'PA', 'RJ', 'MT',\n",
              "       'PE', 'MA', 'RO', 'SE', 'PR', 'PB', 'PI', 'ES', 'DF', 'TO', 'AM',\n",
              "       'SC', 'AP', 'MS', 'RR', 'AC'], dtype=object)"
            ]
          },
          "metadata": {},
          "execution_count": 287
        }
      ],
      "source": [
        "ds_enem['SG_UF_PROVA'].unique()"
      ]
    },
    {
      "cell_type": "code",
      "execution_count": 288,
      "metadata": {
        "colab": {
          "base_uri": "https://localhost:8080/"
        },
        "id": "tbvYbEWnZ7EL",
        "outputId": "0e539aee-20a6-423e-ce0a-a270c0066d58"
      },
      "outputs": [
        {
          "output_type": "execute_result",
          "data": {
            "text/plain": [
              "Index(['CE', 'BA', 'MG', 'SP', 'GO', 'RJ', 'PE', 'PA', 'MA', 'PB', 'PR', 'PI',\n",
              "       'RS', 'RN', 'ES', 'SE', 'SC', 'DF', 'AL', 'MT', 'TO', 'AM', 'MS', 'AP',\n",
              "       'RO', 'AC', 'RR'],\n",
              "      dtype='object')"
            ]
          },
          "metadata": {},
          "execution_count": 288
        }
      ],
      "source": [
        "ds_enem['SG_UF_PROVA'].value_counts().index"
      ]
    },
    {
      "cell_type": "code",
      "execution_count": 289,
      "metadata": {
        "colab": {
          "base_uri": "https://localhost:8080/"
        },
        "id": "xM5wk8eRaVap",
        "outputId": "7a1e1134-10ad-4ca8-a86a-6ebb5e15b341"
      },
      "outputs": [
        {
          "output_type": "execute_result",
          "data": {
            "text/plain": [
              "array([2776, 2736, 2492, 2485, 2051, 1616, 1471, 1375, 1054,  909,  811,\n",
              "        779,  748,  692,  523,  499,  427,  418,  397,  353,  253,  242,\n",
              "        199,  124,  121,   35,   23])"
            ]
          },
          "metadata": {},
          "execution_count": 289
        }
      ],
      "source": [
        "ds_enem['SG_UF_PROVA'].value_counts().values"
      ]
    },
    {
      "cell_type": "code",
      "execution_count": 290,
      "metadata": {
        "id": "nrJtIUUCbkSF"
      },
      "outputs": [],
      "source": [
        "lab = ds_enem['SG_UF_PROVA'].value_counts().index\n",
        "val = ds_enem['SG_UF_PROVA'].value_counts().values"
      ]
    },
    {
      "cell_type": "code",
      "execution_count": 291,
      "metadata": {
        "colab": {
          "base_uri": "https://localhost:8080/",
          "height": 338
        },
        "id": "1ry2rgDCb6XU",
        "outputId": "12873a08-ab69-48f4-d067-3f2917b11d13"
      },
      "outputs": [
        {
          "output_type": "display_data",
          "data": {
            "text/plain": [
              "<Figure size 1080x360 with 1 Axes>"
            ],
            "image/png": "[encoded data removed]"
          },
          "metadata": {
            "needs_background": "light"
          }
        }
      ],
      "source": [
        "fig, ax = plt.subplots(figsize=(15, 5))\n",
        "ax.bar(lab, val)\n",
        "ax.set_title('Total de participantes por estado', fontsize=15)\n",
        "plt.show()"
      ]
    },
    {
      "cell_type": "markdown",
      "source": [
        "Quantidade de participantes por faixa etária ENEM 2021"
      ],
      "metadata": {
        "id": "yQl-i7SkGXMO"
      }
    },
    {
      "cell_type": "code",
      "execution_count": 292,
      "metadata": {
        "id": "LHoDMpSUtSry"
      },
      "outputs": [],
      "source": [
        "nome_arquivo2 = pd.read_excel(r\"/content/Dicionário_Microdados_Enem_2021.xlsx\",)"
      ]
    },
    {
      "cell_type": "code",
      "execution_count": 293,
      "metadata": {
        "id": "RyV31smstt0w"
      },
      "outputs": [],
      "source": [
        "qt_alunos = ds_enem['TP_FAIXA_ETARIA'].value_counts()"
      ]
    },
    {
      "cell_type": "code",
      "execution_count": 294,
      "metadata": {
        "id": "4ai5TL9EuAWO"
      },
      "outputs": [],
      "source": [
        "faixa_etaria_enem = nome_arquivo2.loc[6:25]"
      ]
    },
    {
      "cell_type": "code",
      "execution_count": 295,
      "metadata": {
        "id": "m-mOo64y1K5f",
        "colab": {
          "base_uri": "https://localhost:8080/",
          "height": 677
        },
        "outputId": "27dd0791-dadf-4958-ae65-e48ea03fb6f2"
      },
      "outputs": [
        {
          "output_type": "execute_result",
          "data": {
            "text/plain": [
              "   Unnamed: 2          Unnamed: 3\n",
              "6           1    Menor de 17 anos\n",
              "7           2             17 anos\n",
              "8           3             18 anos\n",
              "9           4             19 anos\n",
              "10          5             20 anos\n",
              "11          6             21 anos\n",
              "12          7             22 anos\n",
              "13          8             23 anos\n",
              "14          9             24 anos\n",
              "15         10             25 anos\n",
              "16         11  Entre 26 e 30 anos\n",
              "17         12  Entre 31 e 35 anos\n",
              "18         13  Entre 36 e 40 anos\n",
              "19         14  Entre 41 e 45 anos\n",
              "20         15  Entre 46 e 50 anos\n",
              "21         16  Entre 51 e 55 anos\n",
              "22         17  Entre 56 e 60 anos\n",
              "23         18  Entre 61 e 65 anos\n",
              "24         19  Entre 66 e 70 anos\n",
              "25         20    Maior de 70 anos"
            ],
            "text/html": [
              "\n",
              "  <div id=\"df-5e11e701-37c3-4bbf-a0d0-1809c268420e\">\n",
              "    <div class=\"colab-df-container\">\n",
              "      <div>\n",
              "<style scoped>\n",
              "    .dataframe tbody tr th:only-of-type {\n",
              "        vertical-align: middle;\n",
              "    }\n",
              "\n",
              "    .dataframe tbody tr th {\n",
              "        vertical-align: top;\n",
              "    }\n",
              "\n",
              "    .dataframe thead th {\n",
              "        text-align: right;\n",
              "    }\n",
              "</style>\n",
              "<table border=\"1\" class=\"dataframe\">\n",
              "  <thead>\n",
              "    <tr style=\"text-align: right;\">\n",
              "      <th></th>\n",
              "      <th>Unnamed: 2</th>\n",
              "      <th>Unnamed: 3</th>\n",
              "    </tr>\n",
              "  </thead>\n",
              "  <tbody>\n",
              "    <tr>\n",
              "      <th>6</th>\n",
              "      <td>1</td>\n",
              "      <td>Menor de 17 anos</td>\n",
              "    </tr>\n",
              "    <tr>\n",
              "      <th>7</th>\n",
              "      <td>2</td>\n",
              "      <td>17 anos</td>\n",
              "    </tr>\n",
              "    <tr>\n",
              "      <th>8</th>\n",
              "      <td>3</td>\n",
              "      <td>18 anos</td>\n",
              "    </tr>\n",
              "    <tr>\n",
              "      <th>9</th>\n",
              "      <td>4</td>\n",
              "      <td>19 anos</td>\n",
              "    </tr>\n",
              "    <tr>\n",
              "      <th>10</th>\n",
              "      <td>5</td>\n",
              "      <td>20 anos</td>\n",
              "    </tr>\n",
              "    <tr>\n",
              "      <th>11</th>\n",
              "      <td>6</td>\n",
              "      <td>21 anos</td>\n",
              "    </tr>\n",
              "    <tr>\n",
              "      <th>12</th>\n",
              "      <td>7</td>\n",
              "      <td>22 anos</td>\n",
              "    </tr>\n",
              "    <tr>\n",
              "      <th>13</th>\n",
              "      <td>8</td>\n",
              "      <td>23 anos</td>\n",
              "    </tr>\n",
              "    <tr>\n",
              "      <th>14</th>\n",
              "      <td>9</td>\n",
              "      <td>24 anos</td>\n",
              "    </tr>\n",
              "    <tr>\n",
              "      <th>15</th>\n",
              "      <td>10</td>\n",
              "      <td>25 anos</td>\n",
              "    </tr>\n",
              "    <tr>\n",
              "      <th>16</th>\n",
              "      <td>11</td>\n",
              "      <td>Entre 26 e 30 anos</td>\n",
              "    </tr>\n",
              "    <tr>\n",
              "      <th>17</th>\n",
              "      <td>12</td>\n",
              "      <td>Entre 31 e 35 anos</td>\n",
              "    </tr>\n",
              "    <tr>\n",
              "      <th>18</th>\n",
              "      <td>13</td>\n",
              "      <td>Entre 36 e 40 anos</td>\n",
              "    </tr>\n",
              "    <tr>\n",
              "      <th>19</th>\n",
              "      <td>14</td>\n",
              "      <td>Entre 41 e 45 anos</td>\n",
              "    </tr>\n",
              "    <tr>\n",
              "      <th>20</th>\n",
              "      <td>15</td>\n",
              "      <td>Entre 46 e 50 anos</td>\n",
              "    </tr>\n",
              "    <tr>\n",
              "      <th>21</th>\n",
              "      <td>16</td>\n",
              "      <td>Entre 51 e 55 anos</td>\n",
              "    </tr>\n",
              "    <tr>\n",
              "      <th>22</th>\n",
              "      <td>17</td>\n",
              "      <td>Entre 56 e 60 anos</td>\n",
              "    </tr>\n",
              "    <tr>\n",
              "      <th>23</th>\n",
              "      <td>18</td>\n",
              "      <td>Entre 61 e 65 anos</td>\n",
              "    </tr>\n",
              "    <tr>\n",
              "      <th>24</th>\n",
              "      <td>19</td>\n",
              "      <td>Entre 66 e 70 anos</td>\n",
              "    </tr>\n",
              "    <tr>\n",
              "      <th>25</th>\n",
              "      <td>20</td>\n",
              "      <td>Maior de 70 anos</td>\n",
              "    </tr>\n",
              "  </tbody>\n",
              "</table>\n",
              "</div>\n",
              "      <button class=\"colab-df-convert\" onclick=\"convertToInteractive('df-5e11e701-37c3-4bbf-a0d0-1809c268420e')\"\n",
              "              title=\"Convert this dataframe to an interactive table.\"\n",
              "              style=\"display:none;\">\n",
              "        \n",
              "  <svg xmlns=\"http://www.w3.org/2000/svg\" height=\"24px\"viewBox=\"0 0 24 24\"\n",
              "       width=\"24px\">\n",
              "    <path d=\"M0 0h24v24H0V0z\" fill=\"none\"/>\n",
              "    <path d=\"M18.56 5.44l.94 2.06.94-2.06 2.06-.94-2.06-.94-.94-2.06-.94 2.06-2.06.94zm-11 1L8.5 8.5l.94-2.06 2.06-.94-2.06-.94L8.5 2.5l-.94 2.06-2.06.94zm10 10l.94 2.06.94-2.06 2.06-.94-2.06-.94-.94-2.06-.94 2.06-2.06.94z\"/><path d=\"M17.41 7.96l-1.37-1.37c-.4-.4-.92-.59-1.43-.59-.52 0-1.04.2-1.43.59L10.3 9.45l-7.72 7.72c-.78.78-.78 2.05 0 2.83L4 21.41c.39.39.9.59 1.41.59.51 0 1.02-.2 1.41-.59l7.78-7.78 2.81-2.81c.8-.78.8-2.07 0-2.86zM5.41 20L4 18.59l7.72-7.72 1.47 1.35L5.41 20z\"/>\n",
              "  </svg>\n",
              "      </button>\n",
              "      \n",
              "  <style>\n",
              "    .colab-df-container {\n",
              "      display:flex;\n",
              "      flex-wrap:wrap;\n",
              "      gap: 12px;\n",
              "    }\n",
              "\n",
              "    .colab-df-convert {\n",
              "      background-color: #E8F0FE;\n",
              "      border: none;\n",
              "      border-radius: 50%;\n",
              "      cursor: pointer;\n",
              "      display: none;\n",
              "      fill: #1967D2;\n",
              "      height: 32px;\n",
              "      padding: 0 0 0 0;\n",
              "      width: 32px;\n",
              "    }\n",
              "\n",
              "    .colab-df-convert:hover {\n",
              "      background-color: #E2EBFA;\n",
              "      box-shadow: 0px 1px 2px rgba(60, 64, 67, 0.3), 0px 1px 3px 1px rgba(60, 64, 67, 0.15);\n",
              "      fill: #174EA6;\n",
              "    }\n",
              "\n",
              "    [theme=dark] .colab-df-convert {\n",
              "      background-color: #3B4455;\n",
              "      fill: #D2E3FC;\n",
              "    }\n",
              "\n",
              "    [theme=dark] .colab-df-convert:hover {\n",
              "      background-color: #434B5C;\n",
              "      box-shadow: 0px 1px 3px 1px rgba(0, 0, 0, 0.15);\n",
              "      filter: drop-shadow(0px 1px 2px rgba(0, 0, 0, 0.3));\n",
              "      fill: #FFFFFF;\n",
              "    }\n",
              "  </style>\n",
              "\n",
              "      <script>\n",
              "        const buttonEl =\n",
              "          document.querySelector('#df-5e11e701-37c3-4bbf-a0d0-1809c268420e button.colab-df-convert');\n",
              "        buttonEl.style.display =\n",
              "          google.colab.kernel.accessAllowed ? 'block' : 'none';\n",
              "\n",
              "        async function convertToInteractive(key) {\n",
              "          const element = document.querySelector('#df-5e11e701-37c3-4bbf-a0d0-1809c268420e');\n",
              "          const dataTable =\n",
              "            await google.colab.kernel.invokeFunction('convertToInteractive',\n",
              "                                                     [key], {});\n",
              "          if (!dataTable) return;\n",
              "\n",
              "          const docLinkHtml = 'Like what you see? Visit the ' +\n",
              "            '<a target=\"_blank\" href=https://colab.research.google.com/notebooks/data_table.ipynb>data table notebook</a>'\n",
              "            + ' to learn more about interactive tables.';\n",
              "          element.innerHTML = '';\n",
              "          dataTable['output_type'] = 'display_data';\n",
              "          await google.colab.output.renderOutput(dataTable, element);\n",
              "          const docLink = document.createElement('div');\n",
              "          docLink.innerHTML = docLinkHtml;\n",
              "          element.appendChild(docLink);\n",
              "        }\n",
              "      </script>\n",
              "    </div>\n",
              "  </div>\n",
              "  "
            ]
          },
          "metadata": {},
          "execution_count": 295
        }
      ],
      "source": [
        "faixa_etaria_final = faixa_etaria_enem.dropna(axis = 'columns')\n",
        "faixa_etaria_final"
      ]
    },
    {
      "cell_type": "code",
      "source": [
        "faixa_etaria_renomeada = faixa_etaria_final.rename(columns={'Unnamed: 2':'Categoria', 'Unnamed: 3':'faixa_etaria'})"
      ],
      "metadata": {
        "id": "8-_ew8GCCcZG"
      },
      "execution_count": 296,
      "outputs": []
    },
    {
      "cell_type": "code",
      "source": [
        "df_merge = pd.merge(faixa_etaria_renomeada, qt_alunos, left_on = 'Categoria', right_index = True)"
      ],
      "metadata": {
        "id": "8Qb6ue0PCgZV"
      },
      "execution_count": 297,
      "outputs": []
    },
    {
      "cell_type": "code",
      "source": [
        "df_merge = df_merge.rename(columns={'TP_FAIXA_ETARIA':'quantidade_alunos'})"
      ],
      "metadata": {
        "id": "K7nXFmOjComf"
      },
      "execution_count": 298,
      "outputs": []
    },
    {
      "cell_type": "code",
      "source": [
        "df_merge = df_merge.reset_index(drop=True)"
      ],
      "metadata": {
        "id": "0srxCyU3EJ2r"
      },
      "execution_count": 299,
      "outputs": []
    },
    {
      "cell_type": "code",
      "source": [
        "fig, ax = plt.subplots(figsize=(15,10))\n",
        "ax.bar(range(len(df_merge['faixa_etaria'])), list(df_merge['quantidade_alunos']), width=0.6, tick_label = list(df_merge['faixa_etaria']), color = \"red\", label = \"PARTICIPANTES POR FAIXA ETÁRIA\")\n",
        "plt.yticks(np.arange(0, 8000, 500))\n",
        "plt.xticks(range(len(df_merge['faixa_etaria'])), rotation='vertical')\n",
        "ax.set_title(\"Quantidade de participantes por faixa etária ENEM 2021\", fontsize=14)\n",
        "ax.set_ylabel(\"Quantidade de participantes\", fontsize=14)\n",
        "ax.set_xlabel(\"Faixas etárias\", fontsize=14)\n",
        "ax.legend()\n",
        "plt.show()"
      ],
      "metadata": {
        "colab": {
          "base_uri": "https://localhost:8080/",
          "height": 711
        },
        "id": "8m0CjVorERw1",
        "outputId": "f785ac5c-5397-4297-84b1-f0949b38482e"
      },
      "execution_count": 300,
      "outputs": [
        {
          "output_type": "display_data",
          "data": {
            "text/plain": [
              "<Figure size 1080x720 with 1 Axes>"
            ],
            "image/png": "[encoded data removed]"
          },
          "metadata": {
            "needs_background": "light"
          }
        }
      ]
    }
  ],
  "metadata": {
    "colab": {
      "provenance": [],
      "authorship_tag": "ABX9TyP3KiY+/XiUy6T0Nwgw/W0N",
      "include_colab_link": true
    },
    "kernelspec": {
      "display_name": "Python 3",
      "name": "python3"
    },
    "language_info": {
      "name": "python"
    }
  },
  "nbformat": 4,
  "nbformat_minor": 0
}